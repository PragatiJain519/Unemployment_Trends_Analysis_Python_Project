{
 "cells": [
  {
   "cell_type": "markdown",
   "id": "fcce6a29",
   "metadata": {
    "_cell_guid": "b1076dfc-b9ad-4769-8c92-a6c4dae69d19",
    "_uuid": "8f2839f25d086af736a60e9eeb907d3b93b6e0e5",
    "papermill": {
     "duration": 0.00701,
     "end_time": "2025-01-14T07:10:19.640374",
     "exception": false,
     "start_time": "2025-01-14T07:10:19.633364",
     "status": "completed"
    },
    "tags": []
   },
   "source": [
    "# Task - 1"
   ]
  },
  {
   "cell_type": "code",
   "execution_count": 1,
   "id": "e24cf5a9",
   "metadata": {
    "execution": {
     "iopub.execute_input": "2025-01-14T07:10:19.654374Z",
     "iopub.status.busy": "2025-01-14T07:10:19.653947Z",
     "iopub.status.idle": "2025-01-14T07:10:21.546876Z",
     "shell.execute_reply": "2025-01-14T07:10:21.546001Z"
    },
    "papermill": {
     "duration": 1.90199,
     "end_time": "2025-01-14T07:10:21.548802",
     "exception": false,
     "start_time": "2025-01-14T07:10:19.646812",
     "status": "completed"
    },
    "tags": []
   },
   "outputs": [],
   "source": [
    "#Import libraries\n",
    "import pandas as pd\n",
    "import numpy as np\n",
    "import matplotlib.pyplot as plt\n",
    "import seaborn as sns"
   ]
  },
  {
   "cell_type": "markdown",
   "id": "26041d18",
   "metadata": {
    "papermill": {
     "duration": 0.005902,
     "end_time": "2025-01-14T07:10:21.561449",
     "exception": false,
     "start_time": "2025-01-14T07:10:21.555547",
     "status": "completed"
    },
    "tags": []
   },
   "source": [
    "# Task - 2"
   ]
  },
  {
   "cell_type": "code",
   "execution_count": 2,
   "id": "9e336d52",
   "metadata": {
    "execution": {
     "iopub.execute_input": "2025-01-14T07:10:21.574919Z",
     "iopub.status.busy": "2025-01-14T07:10:21.574465Z",
     "iopub.status.idle": "2025-01-14T07:10:21.999998Z",
     "shell.execute_reply": "2025-01-14T07:10:21.998895Z"
    },
    "papermill": {
     "duration": 0.434298,
     "end_time": "2025-01-14T07:10:22.001760",
     "exception": false,
     "start_time": "2025-01-14T07:10:21.567462",
     "status": "completed"
    },
    "tags": []
   },
   "outputs": [
    {
     "data": {
      "text/html": [
       "<div>\n",
       "<style scoped>\n",
       "    .dataframe tbody tr th:only-of-type {\n",
       "        vertical-align: middle;\n",
       "    }\n",
       "\n",
       "    .dataframe tbody tr th {\n",
       "        vertical-align: top;\n",
       "    }\n",
       "\n",
       "    .dataframe thead th {\n",
       "        text-align: right;\n",
       "    }\n",
       "</style>\n",
       "<table border=\"1\" class=\"dataframe\">\n",
       "  <thead>\n",
       "    <tr style=\"text-align: right;\">\n",
       "      <th></th>\n",
       "      <th>Country Name</th>\n",
       "      <th>Country Code</th>\n",
       "      <th>1998</th>\n",
       "      <th>1999</th>\n",
       "      <th>2000</th>\n",
       "      <th>2001</th>\n",
       "      <th>2002</th>\n",
       "      <th>2003</th>\n",
       "      <th>2004</th>\n",
       "      <th>2005</th>\n",
       "      <th>...</th>\n",
       "      <th>2013</th>\n",
       "      <th>2014</th>\n",
       "      <th>2015</th>\n",
       "      <th>2016</th>\n",
       "      <th>2017</th>\n",
       "      <th>2018</th>\n",
       "      <th>2019</th>\n",
       "      <th>2020</th>\n",
       "      <th>2021</th>\n",
       "      <th>2022</th>\n",
       "    </tr>\n",
       "  </thead>\n",
       "  <tbody>\n",
       "    <tr>\n",
       "      <th>0</th>\n",
       "      <td>Afghanistan</td>\n",
       "      <td>AFG</td>\n",
       "      <td>8.082</td>\n",
       "      <td>8.070</td>\n",
       "      <td>8.054</td>\n",
       "      <td>8.040</td>\n",
       "      <td>8.186</td>\n",
       "      <td>8.122</td>\n",
       "      <td>8.053</td>\n",
       "      <td>8.113</td>\n",
       "      <td>...</td>\n",
       "      <td>7.949</td>\n",
       "      <td>7.91</td>\n",
       "      <td>8.989</td>\n",
       "      <td>10.086</td>\n",
       "      <td>11.180</td>\n",
       "      <td>11.110</td>\n",
       "      <td>11.085</td>\n",
       "      <td>11.710</td>\n",
       "      <td>0.000</td>\n",
       "      <td>0.000</td>\n",
       "    </tr>\n",
       "    <tr>\n",
       "      <th>1</th>\n",
       "      <td>Albania</td>\n",
       "      <td>ALB</td>\n",
       "      <td>20.047</td>\n",
       "      <td>20.840</td>\n",
       "      <td>19.028</td>\n",
       "      <td>18.575</td>\n",
       "      <td>17.895</td>\n",
       "      <td>16.989</td>\n",
       "      <td>16.310</td>\n",
       "      <td>15.970</td>\n",
       "      <td>...</td>\n",
       "      <td>15.870</td>\n",
       "      <td>18.05</td>\n",
       "      <td>17.190</td>\n",
       "      <td>15.420</td>\n",
       "      <td>13.620</td>\n",
       "      <td>12.300</td>\n",
       "      <td>11.470</td>\n",
       "      <td>13.067</td>\n",
       "      <td>12.683</td>\n",
       "      <td>11.808</td>\n",
       "    </tr>\n",
       "    <tr>\n",
       "      <th>2</th>\n",
       "      <td>Algeria</td>\n",
       "      <td>DZA</td>\n",
       "      <td>26.640</td>\n",
       "      <td>28.304</td>\n",
       "      <td>29.770</td>\n",
       "      <td>27.300</td>\n",
       "      <td>25.900</td>\n",
       "      <td>23.720</td>\n",
       "      <td>17.650</td>\n",
       "      <td>15.270</td>\n",
       "      <td>...</td>\n",
       "      <td>9.820</td>\n",
       "      <td>10.21</td>\n",
       "      <td>11.210</td>\n",
       "      <td>10.200</td>\n",
       "      <td>10.334</td>\n",
       "      <td>10.416</td>\n",
       "      <td>10.495</td>\n",
       "      <td>12.248</td>\n",
       "      <td>11.747</td>\n",
       "      <td>11.550</td>\n",
       "    </tr>\n",
       "    <tr>\n",
       "      <th>3</th>\n",
       "      <td>Angola</td>\n",
       "      <td>AGO</td>\n",
       "      <td>4.234</td>\n",
       "      <td>4.206</td>\n",
       "      <td>4.163</td>\n",
       "      <td>4.119</td>\n",
       "      <td>4.043</td>\n",
       "      <td>4.043</td>\n",
       "      <td>3.972</td>\n",
       "      <td>3.915</td>\n",
       "      <td>...</td>\n",
       "      <td>8.834</td>\n",
       "      <td>9.58</td>\n",
       "      <td>9.584</td>\n",
       "      <td>9.586</td>\n",
       "      <td>9.535</td>\n",
       "      <td>9.522</td>\n",
       "      <td>9.481</td>\n",
       "      <td>10.350</td>\n",
       "      <td>10.384</td>\n",
       "      <td>10.209</td>\n",
       "    </tr>\n",
       "    <tr>\n",
       "      <th>4</th>\n",
       "      <td>Argentina</td>\n",
       "      <td>ARG</td>\n",
       "      <td>12.650</td>\n",
       "      <td>14.050</td>\n",
       "      <td>15.000</td>\n",
       "      <td>17.320</td>\n",
       "      <td>19.590</td>\n",
       "      <td>15.360</td>\n",
       "      <td>13.520</td>\n",
       "      <td>11.510</td>\n",
       "      <td>...</td>\n",
       "      <td>7.100</td>\n",
       "      <td>7.27</td>\n",
       "      <td>7.524</td>\n",
       "      <td>8.109</td>\n",
       "      <td>8.350</td>\n",
       "      <td>9.220</td>\n",
       "      <td>9.840</td>\n",
       "      <td>11.460</td>\n",
       "      <td>8.740</td>\n",
       "      <td>6.491</td>\n",
       "    </tr>\n",
       "  </tbody>\n",
       "</table>\n",
       "<p>5 rows × 27 columns</p>\n",
       "</div>"
      ],
      "text/plain": [
       "  Country Name Country Code    1998    1999    2000    2001    2002    2003  \\\n",
       "0  Afghanistan          AFG   8.082   8.070   8.054   8.040   8.186   8.122   \n",
       "1      Albania          ALB  20.047  20.840  19.028  18.575  17.895  16.989   \n",
       "2      Algeria          DZA  26.640  28.304  29.770  27.300  25.900  23.720   \n",
       "3       Angola          AGO   4.234   4.206   4.163   4.119   4.043   4.043   \n",
       "4    Argentina          ARG  12.650  14.050  15.000  17.320  19.590  15.360   \n",
       "\n",
       "     2004    2005  ...    2013   2014    2015    2016    2017    2018    2019  \\\n",
       "0   8.053   8.113  ...   7.949   7.91   8.989  10.086  11.180  11.110  11.085   \n",
       "1  16.310  15.970  ...  15.870  18.05  17.190  15.420  13.620  12.300  11.470   \n",
       "2  17.650  15.270  ...   9.820  10.21  11.210  10.200  10.334  10.416  10.495   \n",
       "3   3.972   3.915  ...   8.834   9.58   9.584   9.586   9.535   9.522   9.481   \n",
       "4  13.520  11.510  ...   7.100   7.27   7.524   8.109   8.350   9.220   9.840   \n",
       "\n",
       "     2020    2021    2022  \n",
       "0  11.710   0.000   0.000  \n",
       "1  13.067  12.683  11.808  \n",
       "2  12.248  11.747  11.550  \n",
       "3  10.350  10.384  10.209  \n",
       "4  11.460   8.740   6.491  \n",
       "\n",
       "[5 rows x 27 columns]"
      ]
     },
     "execution_count": 2,
     "metadata": {},
     "output_type": "execute_result"
    }
   ],
   "source": [
    "#import Data\n",
    "df = pd.read_excel('/kaggle/input/world-bank-unemployment-data/World_Bank_Unemployment_data.xlsx')\n",
    "df.head()"
   ]
  },
  {
   "cell_type": "markdown",
   "id": "151f28e6",
   "metadata": {
    "papermill": {
     "duration": 0.00626,
     "end_time": "2025-01-14T07:10:22.014944",
     "exception": false,
     "start_time": "2025-01-14T07:10:22.008684",
     "status": "completed"
    },
    "tags": []
   },
   "source": [
    "# Task - 3"
   ]
  },
  {
   "cell_type": "code",
   "execution_count": 3,
   "id": "8be7e93f",
   "metadata": {
    "execution": {
     "iopub.execute_input": "2025-01-14T07:10:22.029244Z",
     "iopub.status.busy": "2025-01-14T07:10:22.028711Z",
     "iopub.status.idle": "2025-01-14T07:10:22.034249Z",
     "shell.execute_reply": "2025-01-14T07:10:22.033321Z"
    },
    "papermill": {
     "duration": 0.014355,
     "end_time": "2025-01-14T07:10:22.035785",
     "exception": false,
     "start_time": "2025-01-14T07:10:22.021430",
     "status": "completed"
    },
    "tags": []
   },
   "outputs": [
    {
     "data": {
      "text/plain": [
       "(187, 27)"
      ]
     },
     "execution_count": 3,
     "metadata": {},
     "output_type": "execute_result"
    }
   ],
   "source": [
    "#Data information\n",
    "df.shape"
   ]
  },
  {
   "cell_type": "code",
   "execution_count": 4,
   "id": "d7349e93",
   "metadata": {
    "execution": {
     "iopub.execute_input": "2025-01-14T07:10:22.050090Z",
     "iopub.status.busy": "2025-01-14T07:10:22.049724Z",
     "iopub.status.idle": "2025-01-14T07:10:22.071555Z",
     "shell.execute_reply": "2025-01-14T07:10:22.070213Z"
    },
    "papermill": {
     "duration": 0.031075,
     "end_time": "2025-01-14T07:10:22.073523",
     "exception": false,
     "start_time": "2025-01-14T07:10:22.042448",
     "status": "completed"
    },
    "tags": []
   },
   "outputs": [
    {
     "name": "stdout",
     "output_type": "stream",
     "text": [
      "<class 'pandas.core.frame.DataFrame'>\n",
      "RangeIndex: 187 entries, 0 to 186\n",
      "Data columns (total 27 columns):\n",
      " #   Column        Non-Null Count  Dtype  \n",
      "---  ------        --------------  -----  \n",
      " 0   Country Name  187 non-null    object \n",
      " 1   Country Code  187 non-null    object \n",
      " 2   1998          187 non-null    float64\n",
      " 3   1999          187 non-null    float64\n",
      " 4   2000          187 non-null    float64\n",
      " 5   2001          187 non-null    float64\n",
      " 6   2002          187 non-null    float64\n",
      " 7   2003          187 non-null    float64\n",
      " 8   2004          187 non-null    float64\n",
      " 9   2005          187 non-null    float64\n",
      " 10  2006          187 non-null    float64\n",
      " 11  2007          187 non-null    float64\n",
      " 12  2008          187 non-null    float64\n",
      " 13  2009          187 non-null    float64\n",
      " 14  2010          187 non-null    float64\n",
      " 15  2011          187 non-null    float64\n",
      " 16  2012          187 non-null    float64\n",
      " 17  2013          187 non-null    float64\n",
      " 18  2014          187 non-null    float64\n",
      " 19  2015          187 non-null    float64\n",
      " 20  2016          187 non-null    float64\n",
      " 21  2017          187 non-null    float64\n",
      " 22  2018          187 non-null    float64\n",
      " 23  2019          187 non-null    float64\n",
      " 24  2020          187 non-null    float64\n",
      " 25  2021          187 non-null    float64\n",
      " 26  2022          187 non-null    float64\n",
      "dtypes: float64(25), object(2)\n",
      "memory usage: 39.6+ KB\n"
     ]
    }
   ],
   "source": [
    "df.info()"
   ]
  },
  {
   "cell_type": "code",
   "execution_count": 5,
   "id": "8840ca63",
   "metadata": {
    "execution": {
     "iopub.execute_input": "2025-01-14T07:10:22.088969Z",
     "iopub.status.busy": "2025-01-14T07:10:22.088597Z",
     "iopub.status.idle": "2025-01-14T07:10:22.153101Z",
     "shell.execute_reply": "2025-01-14T07:10:22.152029Z"
    },
    "papermill": {
     "duration": 0.073987,
     "end_time": "2025-01-14T07:10:22.154803",
     "exception": false,
     "start_time": "2025-01-14T07:10:22.080816",
     "status": "completed"
    },
    "tags": []
   },
   "outputs": [
    {
     "data": {
      "text/html": [
       "<div>\n",
       "<style scoped>\n",
       "    .dataframe tbody tr th:only-of-type {\n",
       "        vertical-align: middle;\n",
       "    }\n",
       "\n",
       "    .dataframe tbody tr th {\n",
       "        vertical-align: top;\n",
       "    }\n",
       "\n",
       "    .dataframe thead th {\n",
       "        text-align: right;\n",
       "    }\n",
       "</style>\n",
       "<table border=\"1\" class=\"dataframe\">\n",
       "  <thead>\n",
       "    <tr style=\"text-align: right;\">\n",
       "      <th></th>\n",
       "      <th>1998</th>\n",
       "      <th>1999</th>\n",
       "      <th>2000</th>\n",
       "      <th>2001</th>\n",
       "      <th>2002</th>\n",
       "      <th>2003</th>\n",
       "      <th>2004</th>\n",
       "      <th>2005</th>\n",
       "      <th>2006</th>\n",
       "      <th>2007</th>\n",
       "      <th>...</th>\n",
       "      <th>2013</th>\n",
       "      <th>2014</th>\n",
       "      <th>2015</th>\n",
       "      <th>2016</th>\n",
       "      <th>2017</th>\n",
       "      <th>2018</th>\n",
       "      <th>2019</th>\n",
       "      <th>2020</th>\n",
       "      <th>2021</th>\n",
       "      <th>2022</th>\n",
       "    </tr>\n",
       "  </thead>\n",
       "  <tbody>\n",
       "    <tr>\n",
       "      <th>count</th>\n",
       "      <td>187.000000</td>\n",
       "      <td>187.000000</td>\n",
       "      <td>187.000000</td>\n",
       "      <td>187.000000</td>\n",
       "      <td>187.000000</td>\n",
       "      <td>187.000000</td>\n",
       "      <td>187.000000</td>\n",
       "      <td>187.000000</td>\n",
       "      <td>187.000000</td>\n",
       "      <td>187.000000</td>\n",
       "      <td>...</td>\n",
       "      <td>187.000000</td>\n",
       "      <td>187.000000</td>\n",
       "      <td>187.000000</td>\n",
       "      <td>187.000000</td>\n",
       "      <td>187.000000</td>\n",
       "      <td>187.000000</td>\n",
       "      <td>187.000000</td>\n",
       "      <td>187.000000</td>\n",
       "      <td>187.000000</td>\n",
       "      <td>187.000000</td>\n",
       "    </tr>\n",
       "    <tr>\n",
       "      <th>mean</th>\n",
       "      <td>8.596781</td>\n",
       "      <td>8.727599</td>\n",
       "      <td>8.593957</td>\n",
       "      <td>8.577299</td>\n",
       "      <td>8.732037</td>\n",
       "      <td>8.719850</td>\n",
       "      <td>8.544193</td>\n",
       "      <td>8.310936</td>\n",
       "      <td>7.741107</td>\n",
       "      <td>7.515861</td>\n",
       "      <td>...</td>\n",
       "      <td>8.328230</td>\n",
       "      <td>8.162684</td>\n",
       "      <td>8.043930</td>\n",
       "      <td>7.892080</td>\n",
       "      <td>7.619781</td>\n",
       "      <td>7.355813</td>\n",
       "      <td>7.190422</td>\n",
       "      <td>8.293417</td>\n",
       "      <td>7.943364</td>\n",
       "      <td>7.323209</td>\n",
       "    </tr>\n",
       "    <tr>\n",
       "      <th>std</th>\n",
       "      <td>6.197272</td>\n",
       "      <td>6.168800</td>\n",
       "      <td>6.236257</td>\n",
       "      <td>6.283186</td>\n",
       "      <td>6.400116</td>\n",
       "      <td>6.323698</td>\n",
       "      <td>6.226387</td>\n",
       "      <td>6.131975</td>\n",
       "      <td>5.672658</td>\n",
       "      <td>5.741693</td>\n",
       "      <td>...</td>\n",
       "      <td>6.218433</td>\n",
       "      <td>6.065166</td>\n",
       "      <td>5.916215</td>\n",
       "      <td>5.803234</td>\n",
       "      <td>5.639973</td>\n",
       "      <td>5.568002</td>\n",
       "      <td>5.437122</td>\n",
       "      <td>5.692604</td>\n",
       "      <td>5.725604</td>\n",
       "      <td>5.672927</td>\n",
       "    </tr>\n",
       "    <tr>\n",
       "      <th>min</th>\n",
       "      <td>0.613000</td>\n",
       "      <td>0.614000</td>\n",
       "      <td>0.611000</td>\n",
       "      <td>0.600000</td>\n",
       "      <td>0.587000</td>\n",
       "      <td>0.600000</td>\n",
       "      <td>0.604000</td>\n",
       "      <td>0.591000</td>\n",
       "      <td>0.580000</td>\n",
       "      <td>0.400000</td>\n",
       "      <td>...</td>\n",
       "      <td>0.250000</td>\n",
       "      <td>0.200000</td>\n",
       "      <td>0.170000</td>\n",
       "      <td>0.150000</td>\n",
       "      <td>0.140000</td>\n",
       "      <td>0.110000</td>\n",
       "      <td>0.100000</td>\n",
       "      <td>0.140000</td>\n",
       "      <td>0.000000</td>\n",
       "      <td>0.000000</td>\n",
       "    </tr>\n",
       "    <tr>\n",
       "      <th>25%</th>\n",
       "      <td>3.860500</td>\n",
       "      <td>3.950000</td>\n",
       "      <td>3.831000</td>\n",
       "      <td>3.780000</td>\n",
       "      <td>4.020000</td>\n",
       "      <td>4.145000</td>\n",
       "      <td>4.228500</td>\n",
       "      <td>4.080000</td>\n",
       "      <td>3.763500</td>\n",
       "      <td>3.680000</td>\n",
       "      <td>...</td>\n",
       "      <td>3.695000</td>\n",
       "      <td>3.665000</td>\n",
       "      <td>3.885000</td>\n",
       "      <td>3.880000</td>\n",
       "      <td>3.650000</td>\n",
       "      <td>3.570500</td>\n",
       "      <td>3.515000</td>\n",
       "      <td>4.270000</td>\n",
       "      <td>3.992500</td>\n",
       "      <td>3.577000</td>\n",
       "    </tr>\n",
       "    <tr>\n",
       "      <th>50%</th>\n",
       "      <td>7.310000</td>\n",
       "      <td>7.278000</td>\n",
       "      <td>6.920000</td>\n",
       "      <td>6.915000</td>\n",
       "      <td>6.900000</td>\n",
       "      <td>6.950000</td>\n",
       "      <td>6.815000</td>\n",
       "      <td>7.120000</td>\n",
       "      <td>6.500000</td>\n",
       "      <td>6.000000</td>\n",
       "      <td>...</td>\n",
       "      <td>7.070000</td>\n",
       "      <td>6.760000</td>\n",
       "      <td>6.618000</td>\n",
       "      <td>5.959000</td>\n",
       "      <td>5.650000</td>\n",
       "      <td>5.300000</td>\n",
       "      <td>5.202000</td>\n",
       "      <td>6.550000</td>\n",
       "      <td>6.180000</td>\n",
       "      <td>5.614000</td>\n",
       "    </tr>\n",
       "    <tr>\n",
       "      <th>75%</th>\n",
       "      <td>11.967500</td>\n",
       "      <td>12.074500</td>\n",
       "      <td>11.835000</td>\n",
       "      <td>11.674000</td>\n",
       "      <td>11.270000</td>\n",
       "      <td>11.396500</td>\n",
       "      <td>10.835000</td>\n",
       "      <td>10.839500</td>\n",
       "      <td>10.015500</td>\n",
       "      <td>9.480000</td>\n",
       "      <td>...</td>\n",
       "      <td>11.515500</td>\n",
       "      <td>10.775000</td>\n",
       "      <td>10.431000</td>\n",
       "      <td>10.355500</td>\n",
       "      <td>10.337000</td>\n",
       "      <td>9.688500</td>\n",
       "      <td>9.955000</td>\n",
       "      <td>11.138500</td>\n",
       "      <td>10.342500</td>\n",
       "      <td>9.858500</td>\n",
       "    </tr>\n",
       "    <tr>\n",
       "      <th>max</th>\n",
       "      <td>34.500000</td>\n",
       "      <td>32.400000</td>\n",
       "      <td>32.200000</td>\n",
       "      <td>30.520000</td>\n",
       "      <td>31.940000</td>\n",
       "      <td>36.690000</td>\n",
       "      <td>37.160000</td>\n",
       "      <td>37.320000</td>\n",
       "      <td>36.030000</td>\n",
       "      <td>35.230000</td>\n",
       "      <td>...</td>\n",
       "      <td>29.140000</td>\n",
       "      <td>28.380000</td>\n",
       "      <td>27.690000</td>\n",
       "      <td>26.197000</td>\n",
       "      <td>26.060000</td>\n",
       "      <td>26.260000</td>\n",
       "      <td>26.315000</td>\n",
       "      <td>28.048000</td>\n",
       "      <td>28.770000</td>\n",
       "      <td>29.806000</td>\n",
       "    </tr>\n",
       "  </tbody>\n",
       "</table>\n",
       "<p>8 rows × 25 columns</p>\n",
       "</div>"
      ],
      "text/plain": [
       "             1998        1999        2000        2001        2002        2003  \\\n",
       "count  187.000000  187.000000  187.000000  187.000000  187.000000  187.000000   \n",
       "mean     8.596781    8.727599    8.593957    8.577299    8.732037    8.719850   \n",
       "std      6.197272    6.168800    6.236257    6.283186    6.400116    6.323698   \n",
       "min      0.613000    0.614000    0.611000    0.600000    0.587000    0.600000   \n",
       "25%      3.860500    3.950000    3.831000    3.780000    4.020000    4.145000   \n",
       "50%      7.310000    7.278000    6.920000    6.915000    6.900000    6.950000   \n",
       "75%     11.967500   12.074500   11.835000   11.674000   11.270000   11.396500   \n",
       "max     34.500000   32.400000   32.200000   30.520000   31.940000   36.690000   \n",
       "\n",
       "             2004        2005        2006        2007  ...        2013  \\\n",
       "count  187.000000  187.000000  187.000000  187.000000  ...  187.000000   \n",
       "mean     8.544193    8.310936    7.741107    7.515861  ...    8.328230   \n",
       "std      6.226387    6.131975    5.672658    5.741693  ...    6.218433   \n",
       "min      0.604000    0.591000    0.580000    0.400000  ...    0.250000   \n",
       "25%      4.228500    4.080000    3.763500    3.680000  ...    3.695000   \n",
       "50%      6.815000    7.120000    6.500000    6.000000  ...    7.070000   \n",
       "75%     10.835000   10.839500   10.015500    9.480000  ...   11.515500   \n",
       "max     37.160000   37.320000   36.030000   35.230000  ...   29.140000   \n",
       "\n",
       "             2014        2015        2016        2017        2018        2019  \\\n",
       "count  187.000000  187.000000  187.000000  187.000000  187.000000  187.000000   \n",
       "mean     8.162684    8.043930    7.892080    7.619781    7.355813    7.190422   \n",
       "std      6.065166    5.916215    5.803234    5.639973    5.568002    5.437122   \n",
       "min      0.200000    0.170000    0.150000    0.140000    0.110000    0.100000   \n",
       "25%      3.665000    3.885000    3.880000    3.650000    3.570500    3.515000   \n",
       "50%      6.760000    6.618000    5.959000    5.650000    5.300000    5.202000   \n",
       "75%     10.775000   10.431000   10.355500   10.337000    9.688500    9.955000   \n",
       "max     28.380000   27.690000   26.197000   26.060000   26.260000   26.315000   \n",
       "\n",
       "             2020        2021        2022  \n",
       "count  187.000000  187.000000  187.000000  \n",
       "mean     8.293417    7.943364    7.323209  \n",
       "std      5.692604    5.725604    5.672927  \n",
       "min      0.140000    0.000000    0.000000  \n",
       "25%      4.270000    3.992500    3.577000  \n",
       "50%      6.550000    6.180000    5.614000  \n",
       "75%     11.138500   10.342500    9.858500  \n",
       "max     28.048000   28.770000   29.806000  \n",
       "\n",
       "[8 rows x 25 columns]"
      ]
     },
     "execution_count": 5,
     "metadata": {},
     "output_type": "execute_result"
    }
   ],
   "source": [
    "df.describe()"
   ]
  },
  {
   "cell_type": "markdown",
   "id": "d2cecf11",
   "metadata": {
    "papermill": {
     "duration": 0.00672,
     "end_time": "2025-01-14T07:10:22.168833",
     "exception": false,
     "start_time": "2025-01-14T07:10:22.162113",
     "status": "completed"
    },
    "tags": []
   },
   "source": [
    "# Task - 4"
   ]
  },
  {
   "cell_type": "code",
   "execution_count": 6,
   "id": "ed15e058",
   "metadata": {
    "execution": {
     "iopub.execute_input": "2025-01-14T07:10:22.184215Z",
     "iopub.status.busy": "2025-01-14T07:10:22.183822Z",
     "iopub.status.idle": "2025-01-14T07:10:22.193372Z",
     "shell.execute_reply": "2025-01-14T07:10:22.192452Z"
    },
    "papermill": {
     "duration": 0.019015,
     "end_time": "2025-01-14T07:10:22.194980",
     "exception": false,
     "start_time": "2025-01-14T07:10:22.175965",
     "status": "completed"
    },
    "tags": []
   },
   "outputs": [
    {
     "data": {
      "text/plain": [
       "0"
      ]
     },
     "execution_count": 6,
     "metadata": {},
     "output_type": "execute_result"
    }
   ],
   "source": [
    "#Data cleaning\n",
    "df.duplicated().sum()"
   ]
  },
  {
   "cell_type": "code",
   "execution_count": 7,
   "id": "63a9aa6e",
   "metadata": {
    "execution": {
     "iopub.execute_input": "2025-01-14T07:10:22.211057Z",
     "iopub.status.busy": "2025-01-14T07:10:22.210706Z",
     "iopub.status.idle": "2025-01-14T07:10:22.217852Z",
     "shell.execute_reply": "2025-01-14T07:10:22.216936Z"
    },
    "papermill": {
     "duration": 0.017186,
     "end_time": "2025-01-14T07:10:22.219526",
     "exception": false,
     "start_time": "2025-01-14T07:10:22.202340",
     "status": "completed"
    },
    "tags": []
   },
   "outputs": [
    {
     "data": {
      "text/plain": [
       "Country Name    0\n",
       "Country Code    0\n",
       "1998            0\n",
       "1999            0\n",
       "2000            0\n",
       "2001            0\n",
       "2002            0\n",
       "2003            0\n",
       "2004            0\n",
       "2005            0\n",
       "2006            0\n",
       "2007            0\n",
       "2008            0\n",
       "2009            0\n",
       "2010            0\n",
       "2011            0\n",
       "2012            0\n",
       "2013            0\n",
       "2014            0\n",
       "2015            0\n",
       "2016            0\n",
       "2017            0\n",
       "2018            0\n",
       "2019            0\n",
       "2020            0\n",
       "2021            0\n",
       "2022            0\n",
       "dtype: int64"
      ]
     },
     "execution_count": 7,
     "metadata": {},
     "output_type": "execute_result"
    }
   ],
   "source": [
    "df.isnull().sum()"
   ]
  },
  {
   "cell_type": "markdown",
   "id": "74e5692d",
   "metadata": {
    "papermill": {
     "duration": 0.006779,
     "end_time": "2025-01-14T07:10:22.233461",
     "exception": false,
     "start_time": "2025-01-14T07:10:22.226682",
     "status": "completed"
    },
    "tags": []
   },
   "source": [
    "# Task - 5"
   ]
  },
  {
   "cell_type": "code",
   "execution_count": 8,
   "id": "1d659bb7",
   "metadata": {
    "execution": {
     "iopub.execute_input": "2025-01-14T07:10:22.248890Z",
     "iopub.status.busy": "2025-01-14T07:10:22.248551Z",
     "iopub.status.idle": "2025-01-14T07:10:22.269691Z",
     "shell.execute_reply": "2025-01-14T07:10:22.268658Z"
    },
    "papermill": {
     "duration": 0.030746,
     "end_time": "2025-01-14T07:10:22.271303",
     "exception": false,
     "start_time": "2025-01-14T07:10:22.240557",
     "status": "completed"
    },
    "tags": []
   },
   "outputs": [
    {
     "data": {
      "text/html": [
       "<div>\n",
       "<style scoped>\n",
       "    .dataframe tbody tr th:only-of-type {\n",
       "        vertical-align: middle;\n",
       "    }\n",
       "\n",
       "    .dataframe tbody tr th {\n",
       "        vertical-align: top;\n",
       "    }\n",
       "\n",
       "    .dataframe thead th {\n",
       "        text-align: right;\n",
       "    }\n",
       "</style>\n",
       "<table border=\"1\" class=\"dataframe\">\n",
       "  <thead>\n",
       "    <tr style=\"text-align: right;\">\n",
       "      <th></th>\n",
       "      <th>Country Name</th>\n",
       "      <th>Country Code</th>\n",
       "      <th>1998</th>\n",
       "      <th>1999</th>\n",
       "      <th>2000</th>\n",
       "      <th>2001</th>\n",
       "      <th>2002</th>\n",
       "      <th>2003</th>\n",
       "      <th>2004</th>\n",
       "      <th>2005</th>\n",
       "      <th>...</th>\n",
       "      <th>2013</th>\n",
       "      <th>2014</th>\n",
       "      <th>2015</th>\n",
       "      <th>2016</th>\n",
       "      <th>2017</th>\n",
       "      <th>2018</th>\n",
       "      <th>2019</th>\n",
       "      <th>2020</th>\n",
       "      <th>2021</th>\n",
       "      <th>2022</th>\n",
       "    </tr>\n",
       "  </thead>\n",
       "  <tbody>\n",
       "    <tr>\n",
       "      <th>0</th>\n",
       "      <td>Afghanistan</td>\n",
       "      <td>AFG</td>\n",
       "      <td>8.082</td>\n",
       "      <td>8.07</td>\n",
       "      <td>8.054</td>\n",
       "      <td>8.040</td>\n",
       "      <td>8.186</td>\n",
       "      <td>8.122</td>\n",
       "      <td>8.053</td>\n",
       "      <td>8.113</td>\n",
       "      <td>...</td>\n",
       "      <td>7.949</td>\n",
       "      <td>7.91</td>\n",
       "      <td>8.989</td>\n",
       "      <td>10.086</td>\n",
       "      <td>11.18</td>\n",
       "      <td>11.11</td>\n",
       "      <td>11.085</td>\n",
       "      <td>11.710</td>\n",
       "      <td>0.000</td>\n",
       "      <td>0.000</td>\n",
       "    </tr>\n",
       "    <tr>\n",
       "      <th>1</th>\n",
       "      <td>Albania</td>\n",
       "      <td>ALB</td>\n",
       "      <td>20.047</td>\n",
       "      <td>20.84</td>\n",
       "      <td>19.028</td>\n",
       "      <td>18.575</td>\n",
       "      <td>17.895</td>\n",
       "      <td>16.989</td>\n",
       "      <td>16.310</td>\n",
       "      <td>15.970</td>\n",
       "      <td>...</td>\n",
       "      <td>15.870</td>\n",
       "      <td>18.05</td>\n",
       "      <td>17.190</td>\n",
       "      <td>15.420</td>\n",
       "      <td>13.62</td>\n",
       "      <td>12.30</td>\n",
       "      <td>11.470</td>\n",
       "      <td>13.067</td>\n",
       "      <td>12.683</td>\n",
       "      <td>11.808</td>\n",
       "    </tr>\n",
       "  </tbody>\n",
       "</table>\n",
       "<p>2 rows × 27 columns</p>\n",
       "</div>"
      ],
      "text/plain": [
       "  Country Name Country Code    1998   1999    2000    2001    2002    2003  \\\n",
       "0  Afghanistan          AFG   8.082   8.07   8.054   8.040   8.186   8.122   \n",
       "1      Albania          ALB  20.047  20.84  19.028  18.575  17.895  16.989   \n",
       "\n",
       "     2004    2005  ...    2013   2014    2015    2016   2017   2018    2019  \\\n",
       "0   8.053   8.113  ...   7.949   7.91   8.989  10.086  11.18  11.11  11.085   \n",
       "1  16.310  15.970  ...  15.870  18.05  17.190  15.420  13.62  12.30  11.470   \n",
       "\n",
       "     2020    2021    2022  \n",
       "0  11.710   0.000   0.000  \n",
       "1  13.067  12.683  11.808  \n",
       "\n",
       "[2 rows x 27 columns]"
      ]
     },
     "execution_count": 8,
     "metadata": {},
     "output_type": "execute_result"
    }
   ],
   "source": [
    "df.head(2)"
   ]
  },
  {
   "cell_type": "code",
   "execution_count": 9,
   "id": "aa6087fd",
   "metadata": {
    "execution": {
     "iopub.execute_input": "2025-01-14T07:10:22.287510Z",
     "iopub.status.busy": "2025-01-14T07:10:22.287163Z",
     "iopub.status.idle": "2025-01-14T07:10:22.293681Z",
     "shell.execute_reply": "2025-01-14T07:10:22.292638Z"
    },
    "papermill": {
     "duration": 0.016578,
     "end_time": "2025-01-14T07:10:22.295331",
     "exception": false,
     "start_time": "2025-01-14T07:10:22.278753",
     "status": "completed"
    },
    "tags": []
   },
   "outputs": [
    {
     "data": {
      "text/plain": [
       "7.94"
      ]
     },
     "execution_count": 9,
     "metadata": {},
     "output_type": "execute_result"
    }
   ],
   "source": [
    "#Data Analysis\n",
    "\n",
    "#What is the average global unemployment rate for the latest year available in the dataset?\n",
    "avg_2021 = round(df['2021'].mean(),2)\n",
    "avg_2021"
   ]
  },
  {
   "cell_type": "markdown",
   "id": "ca8f4d47",
   "metadata": {
    "papermill": {
     "duration": 0.007685,
     "end_time": "2025-01-14T07:10:22.310679",
     "exception": false,
     "start_time": "2025-01-14T07:10:22.302994",
     "status": "completed"
    },
    "tags": []
   },
   "source": [
    "**the average global unemployment rate for the latest year is 7.94**"
   ]
  },
  {
   "cell_type": "code",
   "execution_count": 10,
   "id": "3a2d49a6",
   "metadata": {
    "execution": {
     "iopub.execute_input": "2025-01-14T07:10:22.327333Z",
     "iopub.status.busy": "2025-01-14T07:10:22.326917Z",
     "iopub.status.idle": "2025-01-14T07:10:22.348031Z",
     "shell.execute_reply": "2025-01-14T07:10:22.346962Z"
    },
    "papermill": {
     "duration": 0.031031,
     "end_time": "2025-01-14T07:10:22.349679",
     "exception": false,
     "start_time": "2025-01-14T07:10:22.318648",
     "status": "completed"
    },
    "tags": []
   },
   "outputs": [
    {
     "data": {
      "text/html": [
       "<div>\n",
       "<style scoped>\n",
       "    .dataframe tbody tr th:only-of-type {\n",
       "        vertical-align: middle;\n",
       "    }\n",
       "\n",
       "    .dataframe tbody tr th {\n",
       "        vertical-align: top;\n",
       "    }\n",
       "\n",
       "    .dataframe thead th {\n",
       "        text-align: right;\n",
       "    }\n",
       "</style>\n",
       "<table border=\"1\" class=\"dataframe\">\n",
       "  <thead>\n",
       "    <tr style=\"text-align: right;\">\n",
       "      <th></th>\n",
       "      <th>Country Name</th>\n",
       "      <th>Country Code</th>\n",
       "      <th>1998</th>\n",
       "      <th>1999</th>\n",
       "      <th>2000</th>\n",
       "      <th>2001</th>\n",
       "      <th>2002</th>\n",
       "      <th>2003</th>\n",
       "      <th>2004</th>\n",
       "      <th>2005</th>\n",
       "      <th>...</th>\n",
       "      <th>2013</th>\n",
       "      <th>2014</th>\n",
       "      <th>2015</th>\n",
       "      <th>2016</th>\n",
       "      <th>2017</th>\n",
       "      <th>2018</th>\n",
       "      <th>2019</th>\n",
       "      <th>2020</th>\n",
       "      <th>2021</th>\n",
       "      <th>2022</th>\n",
       "    </tr>\n",
       "  </thead>\n",
       "  <tbody>\n",
       "    <tr>\n",
       "      <th>0</th>\n",
       "      <td>Afghanistan</td>\n",
       "      <td>AFG</td>\n",
       "      <td>8.082</td>\n",
       "      <td>8.07</td>\n",
       "      <td>8.054</td>\n",
       "      <td>8.040</td>\n",
       "      <td>8.186</td>\n",
       "      <td>8.122</td>\n",
       "      <td>8.053</td>\n",
       "      <td>8.113</td>\n",
       "      <td>...</td>\n",
       "      <td>7.949</td>\n",
       "      <td>7.91</td>\n",
       "      <td>8.989</td>\n",
       "      <td>10.086</td>\n",
       "      <td>11.18</td>\n",
       "      <td>11.11</td>\n",
       "      <td>11.085</td>\n",
       "      <td>11.710</td>\n",
       "      <td>0.000</td>\n",
       "      <td>0.000</td>\n",
       "    </tr>\n",
       "    <tr>\n",
       "      <th>1</th>\n",
       "      <td>Albania</td>\n",
       "      <td>ALB</td>\n",
       "      <td>20.047</td>\n",
       "      <td>20.84</td>\n",
       "      <td>19.028</td>\n",
       "      <td>18.575</td>\n",
       "      <td>17.895</td>\n",
       "      <td>16.989</td>\n",
       "      <td>16.310</td>\n",
       "      <td>15.970</td>\n",
       "      <td>...</td>\n",
       "      <td>15.870</td>\n",
       "      <td>18.05</td>\n",
       "      <td>17.190</td>\n",
       "      <td>15.420</td>\n",
       "      <td>13.62</td>\n",
       "      <td>12.30</td>\n",
       "      <td>11.470</td>\n",
       "      <td>13.067</td>\n",
       "      <td>12.683</td>\n",
       "      <td>11.808</td>\n",
       "    </tr>\n",
       "  </tbody>\n",
       "</table>\n",
       "<p>2 rows × 27 columns</p>\n",
       "</div>"
      ],
      "text/plain": [
       "  Country Name Country Code    1998   1999    2000    2001    2002    2003  \\\n",
       "0  Afghanistan          AFG   8.082   8.07   8.054   8.040   8.186   8.122   \n",
       "1      Albania          ALB  20.047  20.84  19.028  18.575  17.895  16.989   \n",
       "\n",
       "     2004    2005  ...    2013   2014    2015    2016   2017   2018    2019  \\\n",
       "0   8.053   8.113  ...   7.949   7.91   8.989  10.086  11.18  11.11  11.085   \n",
       "1  16.310  15.970  ...  15.870  18.05  17.190  15.420  13.62  12.30  11.470   \n",
       "\n",
       "     2020    2021    2022  \n",
       "0  11.710   0.000   0.000  \n",
       "1  13.067  12.683  11.808  \n",
       "\n",
       "[2 rows x 27 columns]"
      ]
     },
     "execution_count": 10,
     "metadata": {},
     "output_type": "execute_result"
    }
   ],
   "source": [
    "df.head(2)"
   ]
  },
  {
   "cell_type": "code",
   "execution_count": 11,
   "id": "6b77771d",
   "metadata": {
    "execution": {
     "iopub.execute_input": "2025-01-14T07:10:22.366490Z",
     "iopub.status.busy": "2025-01-14T07:10:22.366004Z",
     "iopub.status.idle": "2025-01-14T07:10:22.372763Z",
     "shell.execute_reply": "2025-01-14T07:10:22.371280Z"
    },
    "papermill": {
     "duration": 0.017548,
     "end_time": "2025-01-14T07:10:22.374909",
     "exception": false,
     "start_time": "2025-01-14T07:10:22.357361",
     "status": "completed"
    },
    "tags": []
   },
   "outputs": [
    {
     "name": "stdout",
     "output_type": "stream",
     "text": [
      "Country name: South Africa\n",
      "Unemployment rate: 28.77\n"
     ]
    }
   ],
   "source": [
    "#2.Which country had the highest unemployment rate in 2021?\n",
    "high_unemp_rate = df.loc[df['2021'].idxmax()]\n",
    "print('Country name:', high_unemp_rate['Country Name'])\n",
    "print('Unemployment rate:', high_unemp_rate['2021'])"
   ]
  },
  {
   "cell_type": "markdown",
   "id": "ab80c737",
   "metadata": {
    "papermill": {
     "duration": 0.007344,
     "end_time": "2025-01-14T07:10:22.390379",
     "exception": false,
     "start_time": "2025-01-14T07:10:22.383035",
     "status": "completed"
    },
    "tags": []
   },
   "source": [
    "**The country had the highest unemployment rate in 2021 was South Africa, unemployment rate is 28.77**"
   ]
  },
  {
   "cell_type": "code",
   "execution_count": 12,
   "id": "714589ae",
   "metadata": {
    "execution": {
     "iopub.execute_input": "2025-01-14T07:10:22.406906Z",
     "iopub.status.busy": "2025-01-14T07:10:22.406538Z",
     "iopub.status.idle": "2025-01-14T07:10:22.412273Z",
     "shell.execute_reply": "2025-01-14T07:10:22.411422Z"
    },
    "papermill": {
     "duration": 0.015755,
     "end_time": "2025-01-14T07:10:22.413711",
     "exception": false,
     "start_time": "2025-01-14T07:10:22.397956",
     "status": "completed"
    },
    "tags": []
   },
   "outputs": [
    {
     "data": {
      "text/plain": [
       "Index(['Country Name', 'Country Code', '1998', '1999', '2000', '2001', '2002',\n",
       "       '2003', '2004', '2005', '2006', '2007', '2008', '2009', '2010', '2011',\n",
       "       '2012', '2013', '2014', '2015', '2016', '2017', '2018', '2019', '2020',\n",
       "       '2021', '2022'],\n",
       "      dtype='object')"
      ]
     },
     "execution_count": 12,
     "metadata": {},
     "output_type": "execute_result"
    }
   ],
   "source": [
    "#3.How has the global average unemployment rate changed from 1991 to 2021?\n",
    "df.columns"
   ]
  },
  {
   "cell_type": "code",
   "execution_count": 13,
   "id": "1fe3022c",
   "metadata": {
    "execution": {
     "iopub.execute_input": "2025-01-14T07:10:22.431052Z",
     "iopub.status.busy": "2025-01-14T07:10:22.430688Z",
     "iopub.status.idle": "2025-01-14T07:10:22.440117Z",
     "shell.execute_reply": "2025-01-14T07:10:22.439131Z"
    },
    "papermill": {
     "duration": 0.019805,
     "end_time": "2025-01-14T07:10:22.441750",
     "exception": false,
     "start_time": "2025-01-14T07:10:22.421945",
     "status": "completed"
    },
    "tags": []
   },
   "outputs": [
    {
     "data": {
      "text/plain": [
       "1998    8.596781\n",
       "1999    8.727599\n",
       "2000    8.593957\n",
       "2001    8.577299\n",
       "2002    8.732037\n",
       "2003    8.719850\n",
       "2004    8.544193\n",
       "2005    8.310936\n",
       "2006    7.741107\n",
       "2007    7.515861\n",
       "2008    7.381604\n",
       "2009    8.143000\n",
       "2010    8.344016\n",
       "2011    8.273118\n",
       "2012    8.295610\n",
       "2013    8.328230\n",
       "2014    8.162684\n",
       "2015    8.043930\n",
       "2016    7.892080\n",
       "2017    7.619781\n",
       "2018    7.355813\n",
       "2019    7.190422\n",
       "2020    8.293417\n",
       "2021    7.943364\n",
       "2022    7.323209\n",
       "dtype: float64"
      ]
     },
     "execution_count": 13,
     "metadata": {},
     "output_type": "execute_result"
    }
   ],
   "source": [
    "Average = df[['1998', '1999', '2000', '2001', '2002',\n",
    "       '2003', '2004', '2005', '2006', '2007', '2008', '2009', '2010', '2011',\n",
    "       '2012', '2013', '2014', '2015', '2016', '2017', '2018', '2019', '2020',\n",
    "       '2021', '2022']].mean()\n",
    "Average"
   ]
  },
  {
   "cell_type": "code",
   "execution_count": 14,
   "id": "42341a15",
   "metadata": {
    "execution": {
     "iopub.execute_input": "2025-01-14T07:10:22.458824Z",
     "iopub.status.busy": "2025-01-14T07:10:22.458498Z",
     "iopub.status.idle": "2025-01-14T07:10:22.797542Z",
     "shell.execute_reply": "2025-01-14T07:10:22.796508Z"
    },
    "papermill": {
     "duration": 0.349899,
     "end_time": "2025-01-14T07:10:22.799681",
     "exception": false,
     "start_time": "2025-01-14T07:10:22.449782",
     "status": "completed"
    },
    "tags": []
   },
   "outputs": [
    {
     "data": {
      "image/png": "[encoded data removed]",
      "text/plain": [
       "<Figure size 1500x400 with 1 Axes>"
      ]
     },
     "metadata": {},
     "output_type": "display_data"
    }
   ],
   "source": [
    "plt.figure(figsize=(15,4))\n",
    "plt.plot(Average, 'ro-')\n",
    "\n",
    "#adding Titles and labels\n",
    "plt.title('global average unemployment rate, 1991 to 2021')\n",
    "plt.xlabel(\"Year\")\n",
    "plt.ylabel(\"Unemployment Rate %\")\n",
    "plt.legend()\n",
    "plt.grid()\n",
    "plt.show()\n"
   ]
  },
  {
   "cell_type": "code",
   "execution_count": 15,
   "id": "8139c898",
   "metadata": {
    "execution": {
     "iopub.execute_input": "2025-01-14T07:10:22.819270Z",
     "iopub.status.busy": "2025-01-14T07:10:22.818894Z",
     "iopub.status.idle": "2025-01-14T07:10:22.823706Z",
     "shell.execute_reply": "2025-01-14T07:10:22.822844Z"
    },
    "papermill": {
     "duration": 0.016512,
     "end_time": "2025-01-14T07:10:22.825370",
     "exception": false,
     "start_time": "2025-01-14T07:10:22.808858",
     "status": "completed"
    },
    "tags": []
   },
   "outputs": [],
   "source": [
    "#4.Which country has shown the most improvement in reducing unemployment over the last decade?\n",
    "df['Decade'] = df['2021']-df['2011']"
   ]
  },
  {
   "cell_type": "code",
   "execution_count": 16,
   "id": "0cd789b5",
   "metadata": {
    "execution": {
     "iopub.execute_input": "2025-01-14T07:10:22.844974Z",
     "iopub.status.busy": "2025-01-14T07:10:22.844610Z",
     "iopub.status.idle": "2025-01-14T07:10:22.852492Z",
     "shell.execute_reply": "2025-01-14T07:10:22.851530Z"
    },
    "papermill": {
     "duration": 0.019444,
     "end_time": "2025-01-14T07:10:22.854157",
     "exception": false,
     "start_time": "2025-01-14T07:10:22.834713",
     "status": "completed"
    },
    "tags": []
   },
   "outputs": [
    {
     "name": "stdout",
     "output_type": "stream",
     "text": [
      "Country Name: North Macedonia\n",
      "Unployment rate in 2021: 15.78\n",
      "Unployment rate in 2011: 31.5\n",
      "Reducing unemployment last decade: -15.72\n"
     ]
    }
   ],
   "source": [
    "reducing_unemp_rate = df.loc[df['Decade'].idxmin()]\n",
    "print('Country Name:', reducing_unemp_rate['Country Name'])\n",
    "print('Unployment rate in 2021:', reducing_unemp_rate['2021'])\n",
    "print('Unployment rate in 2011:', reducing_unemp_rate['2011'])\n",
    "print('Reducing unemployment last decade:', reducing_unemp_rate['Decade'])"
   ]
  },
  {
   "cell_type": "code",
   "execution_count": 17,
   "id": "021e36af",
   "metadata": {
    "execution": {
     "iopub.execute_input": "2025-01-14T07:10:22.874415Z",
     "iopub.status.busy": "2025-01-14T07:10:22.873995Z",
     "iopub.status.idle": "2025-01-14T07:10:22.879752Z",
     "shell.execute_reply": "2025-01-14T07:10:22.878722Z"
    },
    "papermill": {
     "duration": 0.017686,
     "end_time": "2025-01-14T07:10:22.881472",
     "exception": false,
     "start_time": "2025-01-14T07:10:22.863786",
     "status": "completed"
    },
    "tags": []
   },
   "outputs": [],
   "source": [
    "#5.Is there a noticeable impact of the 2008 financial crisis on global unemployment?\n",
    "#Analyze the impact of the 2008 financial crisis on global unemployment rates.\n",
    "years_crisis = ['2008', '2009', '2010']\n",
    "# Calculate the mean for each year to get the average global unemployment rate\n",
    "average_financial_crisis = df[years_crisis].mean(skipna=True)\n",
    "\n"
   ]
  },
  {
   "cell_type": "code",
   "execution_count": 18,
   "id": "a0259e97",
   "metadata": {
    "execution": {
     "iopub.execute_input": "2025-01-14T07:10:22.902734Z",
     "iopub.status.busy": "2025-01-14T07:10:22.902361Z",
     "iopub.status.idle": "2025-01-14T07:10:23.066674Z",
     "shell.execute_reply": "2025-01-14T07:10:23.065652Z"
    },
    "papermill": {
     "duration": 0.177127,
     "end_time": "2025-01-14T07:10:23.068562",
     "exception": false,
     "start_time": "2025-01-14T07:10:22.891435",
     "status": "completed"
    },
    "tags": []
   },
   "outputs": [
    {
     "data": {
      "image/png": "[encoded data removed]",
      "text/plain": [
       "<Figure size 1000x400 with 1 Axes>"
      ]
     },
     "metadata": {},
     "output_type": "display_data"
    }
   ],
   "source": [
    "plt.figure(figsize = (10,4))\n",
    "plt.plot(average_financial_crisis, 'ro-')\n",
    "\n",
    "plt.title('mpact of the 2008 financial crisis')\n",
    "plt.xlabel('Year')\n",
    "plt.ylabel('Avg_global_unemployment_rate')\n",
    "plt.grid()\n",
    "plt.legend()\n",
    "plt.show()"
   ]
  },
  {
   "cell_type": "code",
   "execution_count": 19,
   "id": "a8340757",
   "metadata": {
    "execution": {
     "iopub.execute_input": "2025-01-14T07:10:23.091900Z",
     "iopub.status.busy": "2025-01-14T07:10:23.091540Z",
     "iopub.status.idle": "2025-01-14T07:10:23.097426Z",
     "shell.execute_reply": "2025-01-14T07:10:23.096342Z"
    },
    "papermill": {
     "duration": 0.019182,
     "end_time": "2025-01-14T07:10:23.098996",
     "exception": false,
     "start_time": "2025-01-14T07:10:23.079814",
     "status": "completed"
    },
    "tags": []
   },
   "outputs": [],
   "source": [
    "#6.How did the COVID-19 pandemic affect unemployment rates in 2020 and 2021?\n",
    "year_affect = ['2019','2020','2021']\n",
    "#Calculate the Average year affect COVID-19 pandemic unemployment rates 2019, 2020, 2021\n",
    "average_year_affect = df[year_affect].mean(skipna = True)"
   ]
  },
  {
   "cell_type": "code",
   "execution_count": 20,
   "id": "0820e014",
   "metadata": {
    "execution": {
     "iopub.execute_input": "2025-01-14T07:10:23.120248Z",
     "iopub.status.busy": "2025-01-14T07:10:23.119849Z",
     "iopub.status.idle": "2025-01-14T07:10:23.354887Z",
     "shell.execute_reply": "2025-01-14T07:10:23.353819Z"
    },
    "papermill": {
     "duration": 0.247603,
     "end_time": "2025-01-14T07:10:23.356571",
     "exception": false,
     "start_time": "2025-01-14T07:10:23.108968",
     "status": "completed"
    },
    "tags": []
   },
   "outputs": [
    {
     "data": {
      "image/png": "[encoded data removed]",
      "text/plain": [
       "<Figure size 1000x400 with 1 Axes>"
      ]
     },
     "metadata": {},
     "output_type": "display_data"
    }
   ],
   "source": [
    "plt.figure(figsize = (10,4))\n",
    "plt.plot(average_year_affect, 'ro-')\n",
    "\n",
    "plt.title('COVID-19 pandemic affect')\n",
    "plt.xlabel('Year')\n",
    "plt.ylabel('Avg_global_unemployment_rate')\n",
    "plt.grid()\n",
    "plt.legend()\n",
    "plt.show()"
   ]
  },
  {
   "cell_type": "code",
   "execution_count": 21,
   "id": "1bd8ed9c",
   "metadata": {
    "execution": {
     "iopub.execute_input": "2025-01-14T07:10:23.379576Z",
     "iopub.status.busy": "2025-01-14T07:10:23.379171Z",
     "iopub.status.idle": "2025-01-14T07:10:23.400320Z",
     "shell.execute_reply": "2025-01-14T07:10:23.399278Z"
    },
    "papermill": {
     "duration": 0.034477,
     "end_time": "2025-01-14T07:10:23.401970",
     "exception": false,
     "start_time": "2025-01-14T07:10:23.367493",
     "status": "completed"
    },
    "tags": []
   },
   "outputs": [
    {
     "data": {
      "text/html": [
       "<div>\n",
       "<style scoped>\n",
       "    .dataframe tbody tr th:only-of-type {\n",
       "        vertical-align: middle;\n",
       "    }\n",
       "\n",
       "    .dataframe tbody tr th {\n",
       "        vertical-align: top;\n",
       "    }\n",
       "\n",
       "    .dataframe thead th {\n",
       "        text-align: right;\n",
       "    }\n",
       "</style>\n",
       "<table border=\"1\" class=\"dataframe\">\n",
       "  <thead>\n",
       "    <tr style=\"text-align: right;\">\n",
       "      <th></th>\n",
       "      <th>Country Name</th>\n",
       "      <th>Country Code</th>\n",
       "      <th>1998</th>\n",
       "      <th>1999</th>\n",
       "      <th>2000</th>\n",
       "      <th>2001</th>\n",
       "      <th>2002</th>\n",
       "      <th>2003</th>\n",
       "      <th>2004</th>\n",
       "      <th>2005</th>\n",
       "      <th>...</th>\n",
       "      <th>2014</th>\n",
       "      <th>2015</th>\n",
       "      <th>2016</th>\n",
       "      <th>2017</th>\n",
       "      <th>2018</th>\n",
       "      <th>2019</th>\n",
       "      <th>2020</th>\n",
       "      <th>2021</th>\n",
       "      <th>2022</th>\n",
       "      <th>Decade</th>\n",
       "    </tr>\n",
       "  </thead>\n",
       "  <tbody>\n",
       "    <tr>\n",
       "      <th>0</th>\n",
       "      <td>Afghanistan</td>\n",
       "      <td>AFG</td>\n",
       "      <td>8.082</td>\n",
       "      <td>8.07</td>\n",
       "      <td>8.054</td>\n",
       "      <td>8.040</td>\n",
       "      <td>8.186</td>\n",
       "      <td>8.122</td>\n",
       "      <td>8.053</td>\n",
       "      <td>8.113</td>\n",
       "      <td>...</td>\n",
       "      <td>7.91</td>\n",
       "      <td>8.989</td>\n",
       "      <td>10.086</td>\n",
       "      <td>11.18</td>\n",
       "      <td>11.11</td>\n",
       "      <td>11.085</td>\n",
       "      <td>11.710</td>\n",
       "      <td>0.000</td>\n",
       "      <td>0.000</td>\n",
       "      <td>-7.947</td>\n",
       "    </tr>\n",
       "    <tr>\n",
       "      <th>1</th>\n",
       "      <td>Albania</td>\n",
       "      <td>ALB</td>\n",
       "      <td>20.047</td>\n",
       "      <td>20.84</td>\n",
       "      <td>19.028</td>\n",
       "      <td>18.575</td>\n",
       "      <td>17.895</td>\n",
       "      <td>16.989</td>\n",
       "      <td>16.310</td>\n",
       "      <td>15.970</td>\n",
       "      <td>...</td>\n",
       "      <td>18.05</td>\n",
       "      <td>17.190</td>\n",
       "      <td>15.420</td>\n",
       "      <td>13.62</td>\n",
       "      <td>12.30</td>\n",
       "      <td>11.470</td>\n",
       "      <td>13.067</td>\n",
       "      <td>12.683</td>\n",
       "      <td>11.808</td>\n",
       "      <td>-0.797</td>\n",
       "    </tr>\n",
       "  </tbody>\n",
       "</table>\n",
       "<p>2 rows × 28 columns</p>\n",
       "</div>"
      ],
      "text/plain": [
       "  Country Name Country Code    1998   1999    2000    2001    2002    2003  \\\n",
       "0  Afghanistan          AFG   8.082   8.07   8.054   8.040   8.186   8.122   \n",
       "1      Albania          ALB  20.047  20.84  19.028  18.575  17.895  16.989   \n",
       "\n",
       "     2004    2005  ...   2014    2015    2016   2017   2018    2019    2020  \\\n",
       "0   8.053   8.113  ...   7.91   8.989  10.086  11.18  11.11  11.085  11.710   \n",
       "1  16.310  15.970  ...  18.05  17.190  15.420  13.62  12.30  11.470  13.067   \n",
       "\n",
       "     2021    2022  Decade  \n",
       "0   0.000   0.000  -7.947  \n",
       "1  12.683  11.808  -0.797  \n",
       "\n",
       "[2 rows x 28 columns]"
      ]
     },
     "execution_count": 21,
     "metadata": {},
     "output_type": "execute_result"
    }
   ],
   "source": [
    "df.head(2)"
   ]
  },
  {
   "cell_type": "code",
   "execution_count": 22,
   "id": "35d71903",
   "metadata": {
    "execution": {
     "iopub.execute_input": "2025-01-14T07:10:23.425555Z",
     "iopub.status.busy": "2025-01-14T07:10:23.425191Z",
     "iopub.status.idle": "2025-01-14T07:10:23.431392Z",
     "shell.execute_reply": "2025-01-14T07:10:23.430419Z"
    },
    "papermill": {
     "duration": 0.019844,
     "end_time": "2025-01-14T07:10:23.432888",
     "exception": false,
     "start_time": "2025-01-14T07:10:23.413044",
     "status": "completed"
    },
    "tags": []
   },
   "outputs": [
    {
     "data": {
      "text/plain": [
       "Index(['Country Name', 'Country Code', '1998', '1999', '2000', '2001', '2002',\n",
       "       '2003', '2004', '2005', '2006', '2007', '2008', '2009', '2010', '2011',\n",
       "       '2012', '2013', '2014', '2015', '2016', '2017', '2018', '2019', '2020',\n",
       "       '2021', '2022', 'Decade'],\n",
       "      dtype='object')"
      ]
     },
     "execution_count": 22,
     "metadata": {},
     "output_type": "execute_result"
    }
   ],
   "source": [
    "df.columns"
   ]
  },
  {
   "cell_type": "code",
   "execution_count": 23,
   "id": "df0dad05",
   "metadata": {
    "execution": {
     "iopub.execute_input": "2025-01-14T07:10:23.456982Z",
     "iopub.status.busy": "2025-01-14T07:10:23.456643Z",
     "iopub.status.idle": "2025-01-14T07:10:23.460925Z",
     "shell.execute_reply": "2025-01-14T07:10:23.460106Z"
    },
    "papermill": {
     "duration": 0.018174,
     "end_time": "2025-01-14T07:10:23.462637",
     "exception": false,
     "start_time": "2025-01-14T07:10:23.444463",
     "status": "completed"
    },
    "tags": []
   },
   "outputs": [],
   "source": [
    "#7.What are the top 5 countries with the lowest average unemployment rate from 1991 to 2021?\n",
    "\n",
    "low_years = [str(year) for year in range(1991, 2021)]\n",
    "columns_available = [col for col in low_years if col in df.columns]"
   ]
  },
  {
   "cell_type": "code",
   "execution_count": 24,
   "id": "1a97e98a",
   "metadata": {
    "execution": {
     "iopub.execute_input": "2025-01-14T07:10:23.486701Z",
     "iopub.status.busy": "2025-01-14T07:10:23.486285Z",
     "iopub.status.idle": "2025-01-14T07:10:23.493126Z",
     "shell.execute_reply": "2025-01-14T07:10:23.492080Z"
    },
    "papermill": {
     "duration": 0.021019,
     "end_time": "2025-01-14T07:10:23.494864",
     "exception": false,
     "start_time": "2025-01-14T07:10:23.473845",
     "status": "completed"
    },
    "tags": []
   },
   "outputs": [],
   "source": [
    "# Calculate the average unemployment rate for each country across these years\n",
    "df['Average_Unemployment'] = df[columns_available].mean(axis=1)"
   ]
  },
  {
   "cell_type": "code",
   "execution_count": 25,
   "id": "408c448a",
   "metadata": {
    "execution": {
     "iopub.execute_input": "2025-01-14T07:10:23.518434Z",
     "iopub.status.busy": "2025-01-14T07:10:23.518045Z",
     "iopub.status.idle": "2025-01-14T07:10:23.533114Z",
     "shell.execute_reply": "2025-01-14T07:10:23.531902Z"
    },
    "papermill": {
     "duration": 0.028995,
     "end_time": "2025-01-14T07:10:23.534910",
     "exception": false,
     "start_time": "2025-01-14T07:10:23.505915",
     "status": "completed"
    },
    "tags": []
   },
   "outputs": [
    {
     "name": "stdout",
     "output_type": "stream",
     "text": [
      "Top 5 countries with the lowest average unemployment rate (1991–2021):\n",
      "    Country Name  Average_Unemployment\n",
      "136        Qatar              0.503522\n",
      "27      Cambodia              0.741217\n",
      "115      Myanmar              0.756565\n",
      "31          Chad              0.975261\n",
      "10       Bahrain              1.168565\n"
     ]
    }
   ],
   "source": [
    "# Sort countries by their average unemployment rate in ascending order\n",
    "top_5_lowest_unemployment = df[['Country Name', 'Average_Unemployment']].nsmallest(5, 'Average_Unemployment')\n",
    "# Display the result\n",
    "print(\"Top 5 countries with the lowest average unemployment rate (1991–2021):\")\n",
    "print(top_5_lowest_unemployment)"
   ]
  },
  {
   "cell_type": "code",
   "execution_count": 26,
   "id": "246ccb66",
   "metadata": {
    "execution": {
     "iopub.execute_input": "2025-01-14T07:10:23.558767Z",
     "iopub.status.busy": "2025-01-14T07:10:23.558392Z",
     "iopub.status.idle": "2025-01-14T07:10:23.582585Z",
     "shell.execute_reply": "2025-01-14T07:10:23.581552Z"
    },
    "papermill": {
     "duration": 0.03817,
     "end_time": "2025-01-14T07:10:23.584401",
     "exception": false,
     "start_time": "2025-01-14T07:10:23.546231",
     "status": "completed"
    },
    "tags": []
   },
   "outputs": [
    {
     "data": {
      "text/html": [
       "<div>\n",
       "<style scoped>\n",
       "    .dataframe tbody tr th:only-of-type {\n",
       "        vertical-align: middle;\n",
       "    }\n",
       "\n",
       "    .dataframe tbody tr th {\n",
       "        vertical-align: top;\n",
       "    }\n",
       "\n",
       "    .dataframe thead th {\n",
       "        text-align: right;\n",
       "    }\n",
       "</style>\n",
       "<table border=\"1\" class=\"dataframe\">\n",
       "  <thead>\n",
       "    <tr style=\"text-align: right;\">\n",
       "      <th></th>\n",
       "      <th>Country Name</th>\n",
       "      <th>Country Code</th>\n",
       "      <th>1998</th>\n",
       "      <th>1999</th>\n",
       "      <th>2000</th>\n",
       "      <th>2001</th>\n",
       "      <th>2002</th>\n",
       "      <th>2003</th>\n",
       "      <th>2004</th>\n",
       "      <th>2005</th>\n",
       "      <th>...</th>\n",
       "      <th>2015</th>\n",
       "      <th>2016</th>\n",
       "      <th>2017</th>\n",
       "      <th>2018</th>\n",
       "      <th>2019</th>\n",
       "      <th>2020</th>\n",
       "      <th>2021</th>\n",
       "      <th>2022</th>\n",
       "      <th>Decade</th>\n",
       "      <th>Average_Unemployment</th>\n",
       "    </tr>\n",
       "  </thead>\n",
       "  <tbody>\n",
       "    <tr>\n",
       "      <th>0</th>\n",
       "      <td>Afghanistan</td>\n",
       "      <td>AFG</td>\n",
       "      <td>8.082</td>\n",
       "      <td>8.070</td>\n",
       "      <td>8.054</td>\n",
       "      <td>8.040</td>\n",
       "      <td>8.186</td>\n",
       "      <td>8.122</td>\n",
       "      <td>8.053</td>\n",
       "      <td>8.113</td>\n",
       "      <td>...</td>\n",
       "      <td>8.989</td>\n",
       "      <td>10.086</td>\n",
       "      <td>11.180</td>\n",
       "      <td>11.110</td>\n",
       "      <td>11.085</td>\n",
       "      <td>11.710</td>\n",
       "      <td>0.000</td>\n",
       "      <td>0.000</td>\n",
       "      <td>-7.947</td>\n",
       "      <td>8.740826</td>\n",
       "    </tr>\n",
       "    <tr>\n",
       "      <th>1</th>\n",
       "      <td>Albania</td>\n",
       "      <td>ALB</td>\n",
       "      <td>20.047</td>\n",
       "      <td>20.840</td>\n",
       "      <td>19.028</td>\n",
       "      <td>18.575</td>\n",
       "      <td>17.895</td>\n",
       "      <td>16.989</td>\n",
       "      <td>16.310</td>\n",
       "      <td>15.970</td>\n",
       "      <td>...</td>\n",
       "      <td>17.190</td>\n",
       "      <td>15.420</td>\n",
       "      <td>13.620</td>\n",
       "      <td>12.300</td>\n",
       "      <td>11.470</td>\n",
       "      <td>13.067</td>\n",
       "      <td>12.683</td>\n",
       "      <td>11.808</td>\n",
       "      <td>-0.797</td>\n",
       "      <td>15.735696</td>\n",
       "    </tr>\n",
       "    <tr>\n",
       "      <th>2</th>\n",
       "      <td>Algeria</td>\n",
       "      <td>DZA</td>\n",
       "      <td>26.640</td>\n",
       "      <td>28.304</td>\n",
       "      <td>29.770</td>\n",
       "      <td>27.300</td>\n",
       "      <td>25.900</td>\n",
       "      <td>23.720</td>\n",
       "      <td>17.650</td>\n",
       "      <td>15.270</td>\n",
       "      <td>...</td>\n",
       "      <td>11.210</td>\n",
       "      <td>10.200</td>\n",
       "      <td>10.334</td>\n",
       "      <td>10.416</td>\n",
       "      <td>10.495</td>\n",
       "      <td>12.248</td>\n",
       "      <td>11.747</td>\n",
       "      <td>11.550</td>\n",
       "      <td>1.787</td>\n",
       "      <td>15.562043</td>\n",
       "    </tr>\n",
       "    <tr>\n",
       "      <th>3</th>\n",
       "      <td>Angola</td>\n",
       "      <td>AGO</td>\n",
       "      <td>4.234</td>\n",
       "      <td>4.206</td>\n",
       "      <td>4.163</td>\n",
       "      <td>4.119</td>\n",
       "      <td>4.043</td>\n",
       "      <td>4.043</td>\n",
       "      <td>3.972</td>\n",
       "      <td>3.915</td>\n",
       "      <td>...</td>\n",
       "      <td>9.584</td>\n",
       "      <td>9.586</td>\n",
       "      <td>9.535</td>\n",
       "      <td>9.522</td>\n",
       "      <td>9.481</td>\n",
       "      <td>10.350</td>\n",
       "      <td>10.384</td>\n",
       "      <td>10.209</td>\n",
       "      <td>3.024</td>\n",
       "      <td>6.491348</td>\n",
       "    </tr>\n",
       "    <tr>\n",
       "      <th>4</th>\n",
       "      <td>Argentina</td>\n",
       "      <td>ARG</td>\n",
       "      <td>12.650</td>\n",
       "      <td>14.050</td>\n",
       "      <td>15.000</td>\n",
       "      <td>17.320</td>\n",
       "      <td>19.590</td>\n",
       "      <td>15.360</td>\n",
       "      <td>13.520</td>\n",
       "      <td>11.510</td>\n",
       "      <td>...</td>\n",
       "      <td>7.524</td>\n",
       "      <td>8.109</td>\n",
       "      <td>8.350</td>\n",
       "      <td>9.220</td>\n",
       "      <td>9.840</td>\n",
       "      <td>11.460</td>\n",
       "      <td>8.740</td>\n",
       "      <td>6.491</td>\n",
       "      <td>1.560</td>\n",
       "      <td>10.653174</td>\n",
       "    </tr>\n",
       "  </tbody>\n",
       "</table>\n",
       "<p>5 rows × 29 columns</p>\n",
       "</div>"
      ],
      "text/plain": [
       "  Country Name Country Code    1998    1999    2000    2001    2002    2003  \\\n",
       "0  Afghanistan          AFG   8.082   8.070   8.054   8.040   8.186   8.122   \n",
       "1      Albania          ALB  20.047  20.840  19.028  18.575  17.895  16.989   \n",
       "2      Algeria          DZA  26.640  28.304  29.770  27.300  25.900  23.720   \n",
       "3       Angola          AGO   4.234   4.206   4.163   4.119   4.043   4.043   \n",
       "4    Argentina          ARG  12.650  14.050  15.000  17.320  19.590  15.360   \n",
       "\n",
       "     2004    2005  ...    2015    2016    2017    2018    2019    2020  \\\n",
       "0   8.053   8.113  ...   8.989  10.086  11.180  11.110  11.085  11.710   \n",
       "1  16.310  15.970  ...  17.190  15.420  13.620  12.300  11.470  13.067   \n",
       "2  17.650  15.270  ...  11.210  10.200  10.334  10.416  10.495  12.248   \n",
       "3   3.972   3.915  ...   9.584   9.586   9.535   9.522   9.481  10.350   \n",
       "4  13.520  11.510  ...   7.524   8.109   8.350   9.220   9.840  11.460   \n",
       "\n",
       "     2021    2022  Decade  Average_Unemployment  \n",
       "0   0.000   0.000  -7.947              8.740826  \n",
       "1  12.683  11.808  -0.797             15.735696  \n",
       "2  11.747  11.550   1.787             15.562043  \n",
       "3  10.384  10.209   3.024              6.491348  \n",
       "4   8.740   6.491   1.560             10.653174  \n",
       "\n",
       "[5 rows x 29 columns]"
      ]
     },
     "execution_count": 26,
     "metadata": {},
     "output_type": "execute_result"
    }
   ],
   "source": [
    "df.head()"
   ]
  }
 ],
 "metadata": {
  "kaggle": {
   "accelerator": "none",
   "dataSources": [
    {
     "datasetId": 6476602,
     "sourceId": 10461335,
     "sourceType": "datasetVersion"
    }
   ],
   "dockerImageVersionId": 30822,
   "isGpuEnabled": false,
   "isInternetEnabled": true,
   "language": "python",
   "sourceType": "notebook"
  },
  "kernelspec": {
   "display_name": "Python 3",
   "language": "python",
   "name": "python3"
  },
  "language_info": {
   "codemirror_mode": {
    "name": "ipython",
    "version": 3
   },
   "file_extension": ".py",
   "mimetype": "text/x-python",
   "name": "python",
   "nbconvert_exporter": "python",
   "pygments_lexer": "ipython3",
   "version": "3.10.12"
  },
  "papermill": {
   "default_parameters": {},
   "duration": 7.022767,
   "end_time": "2025-01-14T07:10:24.315714",
   "environment_variables": {},
   "exception": null,
   "input_path": "__notebook__.ipynb",
   "output_path": "__notebook__.ipynb",
   "parameters": {},
   "start_time": "2025-01-14T07:10:17.292947",
   "version": "2.6.0"
  }
 },
 "nbformat": 4,
 "nbformat_minor": 5
}
